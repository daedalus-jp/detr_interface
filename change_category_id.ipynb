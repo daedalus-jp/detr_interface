{
 "cells": [
  {
   "cell_type": "code",
   "execution_count": 1,
   "metadata": {},
   "outputs": [],
   "source": [
    "import json"
   ]
  },
  {
   "cell_type": "code",
   "execution_count": 2,
   "metadata": {},
   "outputs": [],
   "source": [
    "def change_category_id(filepath,new_id):\n",
    "    with open(filepath) as f:\n",
    "        data = json.load(f)\n",
    "    for img_id in range(0,len(data[\"images\"])):\n",
    "        data[\"images\"][img_id][\"category_ids\"][0] = new_id\n",
    "\n",
    "    data[\"categories\"][0][\"id\"] = new_id\n",
    "\n",
    "    for ann_id in range(0,len(data[\"annotations\"])):\n",
    "        data[\"annotations\"][ann_id][\"category_id\"] = new_id\n",
    "\n",
    "    with open(filepath,\"w\") as f:\n",
    "        json.dump(data,f)"
   ]
  },
  {
   "cell_type": "code",
   "execution_count": 3,
   "metadata": {},
   "outputs": [],
   "source": [
    "folderpath=\"./data/custom/annotations/\"\n",
    "train_file=\"custom_train.json\"\n",
    "val_file=\"custom_val.json\""
   ]
  },
  {
   "cell_type": "code",
   "execution_count": null,
   "metadata": {},
   "outputs": [],
   "source": [
    "change_category_id(folderpath+train_file,0)\n",
    "change_category_id(folderpath+val_file,0)"
   ]
  },
  {
   "cell_type": "code",
   "execution_count": null,
   "metadata": {},
   "outputs": [],
   "source": []
  }
 ],
 "metadata": {
  "kernelspec": {
   "display_name": "Python 3.8.8 ('base')",
   "language": "python",
   "name": "python3"
  },
  "language_info": {
   "codemirror_mode": {
    "name": "ipython",
    "version": 3
   },
   "file_extension": ".py",
   "mimetype": "text/x-python",
   "name": "python",
   "nbconvert_exporter": "python",
   "pygments_lexer": "ipython3",
   "version": "3.8.8 (default, Feb 24 2021, 21:46:12) \n[GCC 7.3.0]"
  },
  "orig_nbformat": 4,
  "vscode": {
   "interpreter": {
    "hash": "d4d1e4263499bec80672ea0156c357c1ee493ec2b1c70f0acce89fc37c4a6abe"
   }
  }
 },
 "nbformat": 4,
 "nbformat_minor": 2
}
